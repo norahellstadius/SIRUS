{
 "cells": [
  {
   "cell_type": "code",
   "execution_count": 3,
   "metadata": {},
   "outputs": [
    {
     "name": "stdout",
     "output_type": "stream",
     "text": [
      "[1, 2, 3, 4, 5]\n"
     ]
    }
   ],
   "source": [
    "def _classes(y):\n",
    "    unique_sorted_y = sorted(set(y))\n",
    "    return unique_sorted_y\n",
    "\n",
    "# Example usage:\n",
    "y = [3, 1, 2, 3, 1, 4, 5, 2]\n",
    "result = _classes(y)\n",
    "print(result)"
   ]
  },
  {
   "cell_type": "code",
   "execution_count": 4,
   "metadata": {},
   "outputs": [
    {
     "data": {
      "text/plain": [
       "[]"
      ]
     },
     "execution_count": 4,
     "metadata": {},
     "output_type": "execute_result"
    }
   ],
   "source": [
    "def count_equal(y: list, label_type: list) -> int:\n",
    "    \"\"\"\n",
    "    Count occurrences of a specific class label in a list.\n",
    "\n",
    "    Parameters:\n",
    "    - y (List): List of class labels.\n",
    "    - label_type (Any): Specific class label to count.\n",
    "\n",
    "    Returns:\n",
    "    - int: Count of occurrences of the specified class label in the list.\n",
    "    \"\"\"\n",
    "    count = sum(1 for label in y if label == label_type)\n",
    "    return count\n",
    "\n",
    "\n",
    "y = [1,2,3,5,6,7,7,9]\n",
    "classes = []\n",
    "num_points = len(y)\n",
    "\n",
    "[count_equal(y, c) / num_points for c in classes]"
   ]
  },
  {
   "cell_type": "code",
   "execution_count": 14,
   "metadata": {},
   "outputs": [
    {
     "name": "stdout",
     "output_type": "stream",
     "text": [
      "4\n",
      "1\n"
     ]
    }
   ],
   "source": [
    "class DecisionTree:\n",
    "    def split(self):\n",
    "        score = self.current_score()\n",
    "        return score\n",
    "\n",
    "\n",
    "class DecisionTreeClassifier(DecisionTree):\n",
    "    def __init__(self):\n",
    "        super().__init__()\n",
    "\n",
    "    def current_score(self):\n",
    "        return 4\n",
    "\n",
    "\n",
    "class DecisionTreeRegressor(DecisionTree):\n",
    "    def __init__(self):\n",
    "        super().__init__()\n",
    "\n",
    "    def current_score(self):\n",
    "        return 1\n",
    "\n",
    "# Example usage\n",
    "classifier_tree = DecisionTreeClassifier()\n",
    "regressor_tree = DecisionTreeRegressor()\n",
    "\n",
    "# Using split, which in turn calls current_score for DecisionTreeClassifier\n",
    "data_classifier = [...]  # Input data for classification\n",
    "print(classifier_tree.split())  # This will print 4\n",
    "\n",
    "# Using split, which in turn calls current_score for DecisionTreeRegressor\n",
    "data_regressor = [...]  # Input data for regression\n",
    "print(regressor_tree.split())  # This will print 1\n"
   ]
  },
  {
   "cell_type": "code",
   "execution_count": null,
   "metadata": {},
   "outputs": [],
   "source": []
  },
  {
   "cell_type": "code",
   "execution_count": null,
   "metadata": {},
   "outputs": [],
   "source": []
  }
 ],
 "metadata": {
  "kernelspec": {
   "display_name": "Python 3.11.5 ('cs109a')",
   "language": "python",
   "name": "python3"
  },
  "language_info": {
   "codemirror_mode": {
    "name": "ipython",
    "version": 3
   },
   "file_extension": ".py",
   "mimetype": "text/x-python",
   "name": "python",
   "nbconvert_exporter": "python",
   "pygments_lexer": "ipython3",
   "version": "3.11.5"
  },
  "orig_nbformat": 4,
  "vscode": {
   "interpreter": {
    "hash": "683a8f5228cdb2dfe20440e7c79750b7ef6077ddd22e2c437eb1bcaa2db9b8fb"
   }
  }
 },
 "nbformat": 4,
 "nbformat_minor": 2
}
