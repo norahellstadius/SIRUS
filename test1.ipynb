{
 "cells": [
  {
   "cell_type": "code",
   "execution_count": 3,
   "metadata": {},
   "outputs": [
    {
     "name": "stdout",
     "output_type": "stream",
     "text": [
      "4\n",
      "1\n"
     ]
    },
    {
     "ename": "AttributeError",
     "evalue": "'DecisionTree' object has no attribute 'current_score'",
     "output_type": "error",
     "traceback": [
      "\u001b[0;31m---------------------------------------------------------------------------\u001b[0m",
      "\u001b[0;31mAttributeError\u001b[0m                            Traceback (most recent call last)",
      "Cell \u001b[0;32mIn[3], line 36\u001b[0m\n\u001b[1;32m     32\u001b[0m \u001b[38;5;28mprint\u001b[39m(regressor_tree\u001b[38;5;241m.\u001b[39msplit())  \u001b[38;5;66;03m# This will print 1\u001b[39;00m\n\u001b[1;32m     35\u001b[0m test \u001b[38;5;241m=\u001b[39m DecisionTree()\n\u001b[0;32m---> 36\u001b[0m \u001b[38;5;28mprint\u001b[39m(\u001b[43mtest\u001b[49m\u001b[38;5;241;43m.\u001b[39;49m\u001b[43msplit\u001b[49m\u001b[43m(\u001b[49m\u001b[43m)\u001b[49m)\n",
      "Cell \u001b[0;32mIn[3], line 3\u001b[0m, in \u001b[0;36mDecisionTree.split\u001b[0;34m(self)\u001b[0m\n\u001b[1;32m      2\u001b[0m \u001b[38;5;28;01mdef\u001b[39;00m \u001b[38;5;21msplit\u001b[39m(\u001b[38;5;28mself\u001b[39m):\n\u001b[0;32m----> 3\u001b[0m     score \u001b[38;5;241m=\u001b[39m \u001b[38;5;28;43mself\u001b[39;49m\u001b[38;5;241;43m.\u001b[39;49m\u001b[43mcurrent_score\u001b[49m()\n\u001b[1;32m      4\u001b[0m     \u001b[38;5;28;01mreturn\u001b[39;00m score\n",
      "\u001b[0;31mAttributeError\u001b[0m: 'DecisionTree' object has no attribute 'current_score'"
     ]
    }
   ],
   "source": [
    "class DecisionTree:\n",
    "    def split(self):\n",
    "        score = self.current_score()\n",
    "        return score\n",
    "\n",
    "\n",
    "class DecisionTreeClassifier(DecisionTree):\n",
    "    def __init__(self):\n",
    "        super().__init__()\n",
    "\n",
    "    def current_score(self):\n",
    "        return 4\n",
    "\n",
    "\n",
    "class DecisionTreeRegressor(DecisionTree):\n",
    "    def __init__(self):\n",
    "        super().__init__()\n",
    "\n",
    "    def current_score(self):\n",
    "        return 1\n",
    "\n",
    "# Example usage\n",
    "classifier_tree = DecisionTreeClassifier()\n",
    "regressor_tree = DecisionTreeRegressor()\n",
    "\n",
    "# Using split, which in turn calls current_score for DecisionTreeClassifier\n",
    "data_classifier = [...]  # Input data for classification\n",
    "print(classifier_tree.split())  # This will print 4\n",
    "\n",
    "# Using split, which in turn calls current_score for DecisionTreeRegressor\n",
    "data_regressor = [...]  # Input data for regression\n",
    "print(regressor_tree.split())  # This will print 1\n"
   ]
  },
  {
   "cell_type": "code",
   "execution_count": 1,
   "metadata": {},
   "outputs": [],
   "source": [
    "from src.preprocess.get_data import get_BW_data\n",
    "from sklearn.model_selection import train_test_split\n",
    "\n",
    "X, y = get_BW_data(\"/Users/norahallqvist/Code/SIRUS/data/BreastWisconsin.csv\")\n",
    "X_train, X_test, y_train, y_test = train_test_split(X, y, test_size=0.2, random_state=1)\n",
    "# splits = cutpoints(X = X_train, q =10)\n"
   ]
  },
  {
   "cell_type": "code",
   "execution_count": 11,
   "metadata": {},
   "outputs": [
    {
     "data": {
      "text/plain": [
       "numpy.ndarray"
      ]
     },
     "execution_count": 11,
     "metadata": {},
     "output_type": "execute_result"
    }
   ],
   "source": [
    "type(X_train)"
   ]
  },
  {
   "cell_type": "code",
   "execution_count": 17,
   "metadata": {},
   "outputs": [
    {
     "data": {
      "text/plain": [
       "array([[1.469e+01, 1.398e+01, 9.822e+01, ..., 1.108e-01, 2.827e-01,\n",
       "        9.208e-02],\n",
       "       [1.317e+01, 1.866e+01, 8.598e+01, ..., 2.088e-01, 3.900e-01,\n",
       "        1.179e-01],\n",
       "       [1.295e+01, 1.602e+01, 8.314e+01, ..., 1.056e-01, 3.380e-01,\n",
       "        9.584e-02],\n",
       "       ...,\n",
       "       [9.029e+00, 1.733e+01, 5.879e+01, ..., 1.750e-01, 4.228e-01,\n",
       "        1.175e-01],\n",
       "       [1.453e+01, 1.934e+01, 9.425e+01, ..., 9.594e-02, 2.471e-01,\n",
       "        7.463e-02],\n",
       "       [1.378e+01, 1.579e+01, 8.837e+01, ..., 3.312e-02, 1.859e-01,\n",
       "        6.810e-02]])"
      ]
     },
     "execution_count": 17,
     "metadata": {},
     "output_type": "execute_result"
    }
   ],
   "source": [
    "X_test"
   ]
  },
  {
   "cell_type": "code",
   "execution_count": null,
   "metadata": {},
   "outputs": [],
   "source": []
  }
 ],
 "metadata": {
  "kernelspec": {
   "display_name": "Python 3.11.5 ('cs109a')",
   "language": "python",
   "name": "python3"
  },
  "language_info": {
   "codemirror_mode": {
    "name": "ipython",
    "version": 3
   },
   "file_extension": ".py",
   "mimetype": "text/x-python",
   "name": "python",
   "nbconvert_exporter": "python",
   "pygments_lexer": "ipython3",
   "version": "3.11.5"
  },
  "orig_nbformat": 4,
  "vscode": {
   "interpreter": {
    "hash": "683a8f5228cdb2dfe20440e7c79750b7ef6077ddd22e2c437eb1bcaa2db9b8fb"
   }
  }
 },
 "nbformat": 4,
 "nbformat_minor": 2
}
